{
 "cells": [
  {
   "cell_type": "code",
   "execution_count": 1,
   "metadata": {},
   "outputs": [],
   "source": [
    "numbers = [1, 2, 3, 4]\n",
    "numbers.append([5,6,7,8])"
   ]
  },
  {
   "cell_type": "code",
   "execution_count": 2,
   "metadata": {},
   "outputs": [
    {
     "data": {
      "text/plain": [
       "[1, 2, 3, 4, [5, 6, 7, 8]]"
      ]
     },
     "execution_count": 2,
     "metadata": {},
     "output_type": "execute_result"
    }
   ],
   "source": [
    "numbers"
   ]
  },
  {
   "cell_type": "code",
   "execution_count": 4,
   "metadata": {},
   "outputs": [
    {
     "name": "stdout",
     "output_type": "stream",
     "text": [
      "\n",
      "dfs\n"
     ]
    }
   ],
   "source": [
    "print(\"\\ndfs\")"
   ]
  },
  {
   "cell_type": "code",
   "execution_count": 5,
   "metadata": {},
   "outputs": [
    {
     "data": {
      "text/plain": [
       "(1, 2, 3, 1, 2, 3, 1, 2, 3)"
      ]
     },
     "execution_count": 5,
     "metadata": {},
     "output_type": "execute_result"
    }
   ],
   "source": [
    "a = (1,2,3)\n",
    "a*3"
   ]
  },
  {
   "cell_type": "code",
   "execution_count": 12,
   "metadata": {},
   "outputs": [],
   "source": [
    "dic = {'a':[1,2,3,4],'b':2}\n",
    "import operator"
   ]
  },
  {
   "cell_type": "code",
   "execution_count": null,
   "metadata": {},
   "outputs": [],
   "source": []
  },
  {
   "cell_type": "code",
   "execution_count": 60,
   "metadata": {},
   "outputs": [
    {
     "name": "stdout",
     "output_type": "stream",
     "text": [
      "[1, 3, 5, 6, 7, 8]\n"
     ]
    }
   ],
   "source": [
    "# insertion sort(每次把最小的数插入到已经排列好的数组中)\n",
    "sorting = [1,5,3,6,8,7]\n",
    "length = len(sorting)\n",
    "i = 0\n",
    "j = 0\n",
    "for i in range(0,length):\n",
    "    temp = sorting[i]\n",
    "    for j in range(i,0,-1):\n",
    "        if temp < sorting[j-1]:\n",
    "            sorting[j] = sorting[j-1]\n",
    "        else:\n",
    "            break\n",
    "    sorting[j] = temp\n",
    "print(sorting)\n",
    "            "
   ]
  },
  {
   "cell_type": "code",
   "execution_count": 66,
   "metadata": {},
   "outputs": [
    {
     "name": "stdout",
     "output_type": "stream",
     "text": [
      "[1, 5, 3, 6, 8, 7]\n",
      "[1, 3, 5, 6, 7, 8]\n"
     ]
    }
   ],
   "source": [
    "# selection sort\n",
    "sorting = [1,5,3,6,8,7]\n",
    "print(sorting)\n",
    "length = len(sorting)\n",
    "minIndex = 0\n",
    "for i in range(0,length):\n",
    "    minIndex = i\n",
    "    for j in range(i+1,length):\n",
    "        if sorting[minIndex] > sorting[j]:\n",
    "            minIndex = j\n",
    "    temp = sorting[i]\n",
    "    sorting[i] = sorting[minIndex]\n",
    "    sorting[minIndex] = temp\n",
    "print(sorting)\n",
    "            "
   ]
  },
  {
   "cell_type": "code",
   "execution_count": 76,
   "metadata": {},
   "outputs": [
    {
     "name": "stdout",
     "output_type": "stream",
     "text": [
      "[1, 5, 3, 6, 8, 7]\n",
      "[1, 3, 5, 6, 7, 8]\n",
      "[1, 3, 5, 6, 7, 8]\n"
     ]
    }
   ],
   "source": [
    "# bubble sort\n",
    "sorting = [1,5,3,6,8,7]\n",
    "print(sorting)\n",
    "length = len(sorting)\n",
    "for i in range(length,0,-1):\n",
    "    for j in range(1,i):\n",
    "        if sorting[j-1] > sorting[j]:\n",
    "            temp = sorting[j-1];\n",
    "            sorting[j-1] = sorting[j]\n",
    "            sorting[j] = temp\n",
    "print(sorting)\n",
    "\n",
    "# or \n",
    "sorting = [1,5,3,6,8,7]\n",
    "for i in range(0,length):\n",
    "    for j in range(0,length-i-1):\n",
    "        if sorting[j] > sorting[j+1]:\n",
    "            temp = sorting[j];\n",
    "            sorting[j] = sorting[j+1]\n",
    "            sorting[j+1] = temp\n",
    "print(sorting)"
   ]
  },
  {
   "cell_type": "code",
   "execution_count": 158,
   "metadata": {},
   "outputs": [
    {
     "name": "stdout",
     "output_type": "stream",
     "text": [
      "[13, 14, 94, 33, 82, 25, 59, 94, 65, 23, 45, 27, 73, 25, 39, 10]\n"
     ]
    }
   ],
   "source": [
    "# shell sort（变步长的插入排序）\n",
    "sorting = [13,14, 94 ,33, 82, 25, 59, 94, 65, 23, 45, 27, 73, 25, 39, 10 ]\n",
    "print(sorting)\n",
    "length = len(sorting)\n",
    "gaps = [5,3,1]\n",
    "def shell_sort(sorting,gaps):\n",
    "    i=0\n",
    "    j=0\n",
    "    for gap in gaps:\n",
    "        for i in range(gap,length):\n",
    "            #print(\"i:\",i,\" \",sorting[i],end=' ')\n",
    "            temp = sorting[i]\n",
    "            j = i\n",
    "            while j>=gap and sorting[j-gap]>temp:\n",
    "                    sorting[j] = sorting[j-gap]\n",
    "                    j = j-gap\n",
    "            sorting[j] = temp\n",
    "    return sorting            "
   ]
  },
  {
   "cell_type": "code",
   "execution_count": 159,
   "metadata": {},
   "outputs": [
    {
     "data": {
      "text/plain": [
       "[10, 13, 14, 23, 25, 25, 27, 33, 39, 45, 59, 65, 73, 82, 94, 94]"
      ]
     },
     "execution_count": 159,
     "metadata": {},
     "output_type": "execute_result"
    }
   ],
   "source": [
    "shell_sort(sorting,gaps)"
   ]
  },
  {
   "cell_type": "code",
   "execution_count": 102,
   "metadata": {},
   "outputs": [
    {
     "name": "stdout",
     "output_type": "stream",
     "text": [
      "5\n",
      "4\n",
      "3\n",
      "2\n",
      "1\n",
      "0\n"
     ]
    }
   ],
   "source": [
    "for i in range(5,-1,-1):\n",
    "    print(i)"
   ]
  },
  {
   "cell_type": "code",
   "execution_count": null,
   "metadata": {},
   "outputs": [],
   "source": []
  }
 ],
 "metadata": {
  "kernelspec": {
   "display_name": "Python 3",
   "language": "python",
   "name": "python3"
  },
  "language_info": {
   "codemirror_mode": {
    "name": "ipython",
    "version": 3
   },
   "file_extension": ".py",
   "mimetype": "text/x-python",
   "name": "python",
   "nbconvert_exporter": "python",
   "pygments_lexer": "ipython3",
   "version": "3.5.4"
  }
 },
 "nbformat": 4,
 "nbformat_minor": 2
}
