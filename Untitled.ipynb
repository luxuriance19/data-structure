{
 "cells": [
  {
   "cell_type": "code",
   "execution_count": 18,
   "metadata": {},
   "outputs": [
    {
     "name": "stdout",
     "output_type": "stream",
     "text": [
      "(True, 3)\n"
     ]
    }
   ],
   "source": [
    "# 数组中重复的数字,长度为n的数组，字符的大小为0-n,找出任意一个重复的数字\n",
    "# 时间复杂度为O(n)，空间复杂度为O(1)\n",
    "def duplicate(numbers,length):\n",
    "    if len(numbers) == 0:\n",
    "        return False\n",
    "    for i in range(0,length):\n",
    "        if numbers[i] < 0 or numbers[i] > length-1:\n",
    "            return False\n",
    "    for i in range(0,length):\n",
    "        while numbers[i] != i:\n",
    "            if numbers[i] == numbers[numbers[i]]:\n",
    "                duplication = numbers[i]\n",
    "                return (True,duplication)\n",
    "            # swap numbers[i] and numbers[numbers[i]]\n",
    "            temp = numbers[i]\n",
    "            numbers[i] = numbers[temp]\n",
    "            numbers[temp] = temp\n",
    "    return false\n",
    "\n",
    "if __name__ == '__main__':\n",
    "    a = duplicate([2,3,1,0,5,3],6)\n",
    "    print(a)"
   ]
  },
  {
   "cell_type": "code",
   "execution_count": 22,
   "metadata": {},
   "outputs": [
    {
     "name": "stdout",
     "output_type": "stream",
     "text": [
      "3\n"
     ]
    }
   ],
   "source": [
    "# 不修改数组找出重复的数字\n",
    "'''\n",
    "在一个长度为n+1的数组里的所有数字都在1~n的范围内，数组中至少有一个数字是重复的。\n",
    "请至少找出数学组中任意一个重复的数字，但是不能修改输入的数组。\n",
    "'''\n",
    "# 方法1：采用辅助数组，把原来的数组赋值到辅助数组，空间复杂度为O(n)\n",
    "# 方法2：类似二分法查找,时间复杂度为O(nlogn),空间复杂度为O(1)\n",
    "\n",
    "def getDuplicate(numbers, length):\n",
    "    if length == 0:\n",
    "        return False\n",
    "    start = 1\n",
    "    end = length-1\n",
    "    while(end >= start):\n",
    "        mid = ((end-start)>>1)+start\n",
    "        count = countRange(numbers,length,start,mid)\n",
    "        if(end==start):\n",
    "            if count>1:\n",
    "                return start\n",
    "            else:\n",
    "                break\n",
    "        \n",
    "        if count>(mid-start+1):\n",
    "            end = mid;\n",
    "        else:\n",
    "            start = mid + 1\n",
    "    \n",
    "    return False\n",
    "\n",
    "def countRange(numbers,length,start,mid):\n",
    "    count = 0\n",
    "    for i in range(0,length):\n",
    "        if numbers[i] >= start and numbers[i] <= mid:\n",
    "            count = count + 1\n",
    "    return count\n",
    "\n",
    "if __name__ == \"__main__\":\n",
    "    numbers = [2,3,1,0,5,3]\n",
    "    length = 6\n",
    "    a = getDuplicate(numbers, length)\n",
    "    print(a)"
   ]
  },
  {
   "cell_type": "code",
   "execution_count": 28,
   "metadata": {},
   "outputs": [
    {
     "name": "stdout",
     "output_type": "stream",
     "text": [
      "True\n"
     ]
    }
   ],
   "source": [
    "'''\n",
    "二维数组查找，\n",
    "采取先查找最后一列，排除右边的列的选项，然后再做行的排查。\n",
    "'''\n",
    "def find(matrix,rows,columns,number):\n",
    "    found = False\n",
    "    if rows>0 and columns>0:\n",
    "        row = 0\n",
    "        column = columns-1\n",
    "        while row<rows and column>=0:\n",
    "            if matrix[row][column] == number:\n",
    "                found = True\n",
    "                break\n",
    "            elif matrix[row][column] > number:\n",
    "                column = column - 1\n",
    "            else:\n",
    "                row = row + 1\n",
    "    return found\n",
    "\n",
    "if __name__ == \"__main__\":\n",
    "    matrix = [[1,2,8,9],[2,4,9,12],[4,7,10,13],[6,8,11,15]]\n",
    "    rows = 4\n",
    "    columns = 4\n",
    "    number = 7\n",
    "    found = find(matrix,rows,columns,number)\n",
    "    print(found)"
   ]
  },
  {
   "cell_type": "code",
   "execution_count": 29,
   "metadata": {},
   "outputs": [],
   "source": [
    "'''\n",
    "Python中的单例模式\n",
    "'''\n",
    "class My_Singleton():\n",
    "    def foo(self):\n",
    "        pass \n",
    "\n",
    "my_singleton = My_Singleton()\n",
    "\n",
    "class Singleton():\n",
    "    _instance = None #类变量\n",
    "    def __new__(cls,*args,**kw): #控制实例的创建过程\n",
    "        if not cls._instance:\n",
    "            cls._instance =super(Singleton, cls).__new__(cls,*args,**kw)\n",
    "        return cls.instance\n",
    "class MyClass(Singleton):\n",
    "    a = 1"
   ]
  },
  {
   "cell_type": "code",
   "execution_count": 5,
   "metadata": {},
   "outputs": [
    {
     "name": "stdout",
     "output_type": "stream",
     "text": [
      "hello%20world\n"
     ]
    }
   ],
   "source": [
    "'''\n",
    "替换空格\n",
    "\n",
    "常见错误：string 是一种不可变的数据类型，所以不能够直接修改。\n",
    "'''\n",
    "class Solution():\n",
    "    #使用内置函数，新建一个新的字符串：\n",
    "    def replaceSpace(self,s):\n",
    "        if not s or isinstance(s,str) is False or len(s) <= 0:\n",
    "            return ''\n",
    "        s = s.replace(' ','20%')\n",
    "        return s\n",
    "    \n",
    "    def replaceSpace2(self,s):#由于python中的string是不可变对象，所以只能够新建字符串：\n",
    "        if not s or isinstance(s,str) is False or len(s) <= 0:\n",
    "            return ''\n",
    "        numOfBlank = 0\n",
    "        for i in s:\n",
    "            if i == ' ':\n",
    "                numOfBlank += 1\n",
    "        newStrLen = len(s) + 2 * numOfBlank\n",
    "        #创建长度为newStrLen长度的list：\n",
    "        newStr = newStrLen * [None]\n",
    "        indexOfOrigin, indexOfNew = len(s) - 1, newStrLen - 1\n",
    "        while 0 <= indexOfOrigin <= indexOfNew:\n",
    "            if s[indexOfOrigin] == ' ':\n",
    "                newStr[indexOfNew-2:indexOfNew+1] = ['%','2','0']\n",
    "                indexOfNew -= 3\n",
    "                indexOfOrigin -= 1\n",
    "            else:\n",
    "                newStr[indexOfNew] = s[indexOfOrigin]\n",
    "                indexOfNew -= 1\n",
    "                indexOfOrigin -= 1\n",
    "        return ''.join(newStr)\n",
    "\n",
    "if __name__ =='__main__':\n",
    "    s = 'hello world'\n",
    "    cls = Solution()\n",
    "    a = cls.replaceSpace2(s)\n",
    "    print(a)"
   ]
  },
  {
   "cell_type": "code",
   "execution_count": 7,
   "metadata": {},
   "outputs": [
    {
     "name": "stdout",
     "output_type": "stream",
     "text": [
      "[13, 11, 10]\n"
     ]
    }
   ],
   "source": [
    "## 从尾到头打印链表\n",
    "class ListNode():\n",
    "    def __init__(self,x):\n",
    "        self.val = x\n",
    "        self.next = None\n",
    "\n",
    "class Solution():\n",
    "    def printListFromTailToHead(self,listNode):\n",
    "        if not listNode:\n",
    "            return []\n",
    "        l = []\n",
    "        head = listNode\n",
    "        while head:\n",
    "            l.insert(0,head.val)\n",
    "            head = head.next\n",
    "        return l\n",
    "\n",
    "if __name__ == '__main__':\n",
    "    cls = Solution()\n",
    "    node1 = ListNode(10)\n",
    "    node2 = ListNode(11)\n",
    "    node3 = ListNode(13)\n",
    "    node1.next = node2\n",
    "    node2.next = node3\n",
    "    a = cls.printListFromTailToHead(node1)\n",
    "    print(a)"
   ]
  },
  {
   "cell_type": "code",
   "execution_count": 20,
   "metadata": {},
   "outputs": [
    {
     "name": "stdout",
     "output_type": "stream",
     "text": [
      "7 4 2 5 8 6 3 1 <__main__.TreeNode object at 0x00000151F5234278>\n",
      "1\n",
      "3\n",
      "6\n",
      "8\n",
      "5\n",
      "2\n",
      "4\n",
      "7\n"
     ]
    }
   ],
   "source": [
    "# 重建二叉树 \n",
    "'''\n",
    "采用递归调用来构建二叉树\n",
    "'''\n",
    "class TreeNode:\n",
    "    def __init__(self,x):\n",
    "        self.val = x\n",
    "        self.left = None\n",
    "        self.right = None\n",
    "        \n",
    "class Solution():\n",
    "    def reConstructBinaryTree(self, pre, tin):\n",
    "        if not pre or not tin:\n",
    "            return None\n",
    "        root = TreeNode(pre[0])\n",
    "        # 在inoder中找到根节点的值\n",
    "        i = tin.index(pre[0])\n",
    "        root.left = self.reConstructBinaryTree(pre[1:i+1],tin[0:i])\n",
    "        root.right = self.reConstructBinaryTree(pre[i+1:],tin[i+1:])\n",
    "        print(root.val,end=' ')\n",
    "        return root\n",
    "\n",
    "# 分层打印\n",
    "def level_queue(root):\n",
    "    if root is None:\n",
    "        return\n",
    "    myQueue = []\n",
    "    node = root\n",
    "    myQueue.append(node)\n",
    "    while myQueue:\n",
    "        node = myQueue.pop()\n",
    "        print(node.val)\n",
    "        if node.left is not None:\n",
    "            myQueue.append(node.left)\n",
    "        if node.right is not None:\n",
    "            myQueue.append(node.right)\n",
    "\n",
    "if __name__=='__main__':\n",
    "    pre = [1,2,4,7,3,5,6,8]\n",
    "    tin = [4,7,2,1,5,3,8,6]\n",
    "    test = Solution()\n",
    "    newTree = test.reConstructBinaryTree(pre,tin)\n",
    "    print(newTree)\n",
    "    level_queue(newTree)\n"
   ]
  },
  {
   "cell_type": "code",
   "execution_count": 49,
   "metadata": {},
   "outputs": [
    {
     "name": "stdout",
     "output_type": "stream",
     "text": [
      "6\n",
      "[[0, 1, 2], [0, 1, 2, 0, 1, 2, 0, 1, 2], [0, 1, 2, 0, 1, 2, 0, 1, 2, 0, 1, 2, 0, 1, 2, 0, 1, 2]]\n",
      "30\n"
     ]
    }
   ],
   "source": [
    "'''\n",
    "有一个扇形，分成N块，有M种颜色，相邻两块不能一样，问有多少种排序方式。\n",
    "'''\n",
    "   \n",
    "   \n",
    "   \n",
    "def backtrace(deep,m,n):\n",
    "    global count\n",
    "    global color\n",
    "    if deep == n:\n",
    "        if color[deep-1][-1]!=color[0][-1]:\n",
    "            count = count+1\n",
    "\n",
    "    else:\n",
    "        for i in range(m): #m色n环\n",
    "            color[deep].append(i)\n",
    "            if deep==0 or color[deep][-1]!=color[deep-1][-1]:\n",
    "                backtrace(deep=deep+1,m=m,n=n)\n",
    "\n",
    "    \n",
    "    \n",
    "if __name__ == \"__main__\":\n",
    "    global count\n",
    "    global color\n",
    "    def counts(m,n):\n",
    "        if m<=0 or n <= 0:\n",
    "            return\n",
    "        global color\n",
    "        color = [[] for i in range(n)]\n",
    "        global count\n",
    "        count=0\n",
    "        # print(count)\n",
    "        # print(color)\n",
    "        backtrace(deep=0,m=m,n=n)\n",
    "        return\n",
    "    counts(m=3,n=3)\n",
    "    print(count)\n",
    "    print(color)\n",
    "    \n",
    "\n",
    "'''\n",
    "方法二：dp\n",
    "'''\n",
    "def count(m,n):\n",
    "    if m<=0 or n<=0:\n",
    "        return\n",
    "    if m ==1:\n",
    "        return n\n",
    "    if n == 1:\n",
    "        return m\n",
    "    if n == 2 :\n",
    "        return m*(m-1)\n",
    "    # same为前i块种第i块和第0块相同的所有的染色方案\n",
    "    # diff为前i块中欧第i块和第0块不同的所有的染色方案\n",
    "    \n",
    "    # 递推公式：\n",
    "    # 求解same(i)\n",
    "    # 如果前一块与第0块染色相同，则不可选，same(i-1)*0\n",
    "    # 只能选择第i-1块和第0块不同的,diff(i-1)*1\n",
    "    # same(i) = diff(i-1)*1\n",
    "    # 求解diff(i)\n",
    "    # 如果前一块和第0块染色相同，那么可以选择为m-1种，same(i-1)*(m-1)\n",
    "    # 如果前一块和第0块染色不同，那么可以选择为m-1种，diff(i-1)*(m-2)\n",
    "    # diff(i)=same(i-1)*(m-1)+diff(i-1)*(m-2)\n",
    "    \n",
    "    # 由于最后一块n-1的颜色和0块的颜色不可能相同，所以最后只能返回diff(n-1)\n",
    "    \n",
    "    # 采用迭代的方式求解\n",
    "    same = 0\n",
    "    diff = m*(m-1)\n",
    "    for i in range(2,n):\n",
    "        temp = same\n",
    "        same = diff\n",
    "        diff = temp*(m-1)+diff*(m-2)\n",
    "    return diff\n",
    "\n",
    "if __name__=='__main__':\n",
    "    print(count(3,5))"
   ]
  },
  {
   "cell_type": "code",
   "execution_count": null,
   "metadata": {},
   "outputs": [],
   "source": [
    "'''\n",
    "给定二叉树和其中一个节点，找出中序遍历的下一个节点\n",
    "'''\n",
    "class TreeLinkNode:\n",
    "    def __init__(self,x):\n",
    "        self.val = x;\n",
    "        self.left = None;\n",
    "        self.right = None;\n",
    "        self.parent = None;\n",
    "\n",
    "class Solution():\n",
    "    def GetNext(self,pNode):\n",
    "        if pNode is None:\n",
    "            return None\n",
    "        #若此节点存在右子树：\n",
    "        if pNode.right != None:\n",
    "            pNode = pNode.right\n",
    "            while pNode.left:\n",
    "                pNode = pNode.left\n",
    "            return pNode\n",
    "         #若此节点不存在右子树：\n",
    "        else:\n",
    "            #首先判断是不是存在父节点，否则会报错\n",
    "            # 此节点是父节点的左子节点，则父节点是下一个节点\n",
    "            if pNode.parent and pNode.parent.left == pNode:\n",
    "                return pNode.parent\n",
    "            # 此节点是父节点的右子节点，则沿父节点向上遍历，找到一个是他父节点的右子节点\n",
    "            # 这时如果位于二叉树的左边，那么找到根节点，即一直往上找父节点，找到一个节点是他父节点的左节点，\n",
    "            # 他的父节点就是需要找的节点，否则为最后一个节点\n",
    "            elif pNode.parent and pNode.parent.right == pNode:\n",
    "                while pNode.parent is not None:\n",
    "                    if pNode == pNode.parent.left:\n",
    "                        return pNone.parent\n",
    "                    pNode = pNode.parent\n",
    "                return None"
   ]
  },
  {
   "cell_type": "code",
   "execution_count": 45,
   "metadata": {},
   "outputs": [
    {
     "name": "stdout",
     "output_type": "stream",
     "text": [
      "1\n",
      "2\n"
     ]
    }
   ],
   "source": [
    "'''\n",
    "用两个栈实现队列，实现两个函数，appendTail和deleteHead\n",
    "每次将输入的值固定在一个栈中，知道另外一个栈的所有的值被弹出以后，再次需要弹出的时候将这个栈的所有元素都放入另外一个栈\n",
    "'''\n",
    "class Solution():\n",
    "    def __init__(self):\n",
    "        self.stack1 = []\n",
    "        self.stack2 = []\n",
    "    \n",
    "    def appendTail(self,node):\n",
    "        self.stack1.append(node)\n",
    "    \n",
    "    def deleteHead(self):\n",
    "        if not self.stack2 and not self.stack1:\n",
    "            return None\n",
    "        elif not self.stack2:\n",
    "            while self.stack1:\n",
    "                self.stack2.append(self.stack1.pop())\n",
    "        return self.stack2.pop()\n",
    "    \n",
    "if __name__=='__main__':\n",
    "    s = Solution()\n",
    "    s.appendTail(1)\n",
    "    s.appendTail(2)\n",
    "    s.appendTail(3)\n",
    "    print(s.deleteHead())\n",
    "    s.appendTail(4)\n",
    "    print(s.deleteHead())\n",
    "\n",
    "'''\n",
    "用两个队列实现栈，实现pop和push的两个函数\n",
    "两个队列实现一个栈的功能注意是要保持一个空的队列\n",
    "'''\n",
    "class Solution():\n",
    "    def __init__(self):\n",
    "        self.queue1 = []\n",
    "        self.queue2 = []\n",
    "    \n",
    "    def push(self,node):\n",
    "        if self.queue1:\n",
    "            self.queue1.append(node)\n",
    "        else:\n",
    "            self.queue2.append(node)\n",
    "    \n",
    "    def pop(self):\n",
    "        if not self.queue1 and not self.queue2:\n",
    "            return None\n",
    "        if self.queue1:\n",
    "            while  len(self.queue1)>1:\n",
    "                self.queue2.append(self.queue1.pop(0))\n",
    "            return self.queue1.pop()\n",
    "        else:\n",
    "            while len(self.queue2)>1:\n",
    "                self.queue1.append(self.queue2.pop(0))\n",
    "            return self.queue2.pop()\n"
   ]
  },
  {
   "cell_type": "code",
   "execution_count": 30,
   "metadata": {},
   "outputs": [],
   "source": [
    "'''\n",
    "求解斐波那契数列\n",
    "'''\n",
    "class Solution():\n",
    "    #用递归求解，无效率：\n",
    "    def Fibonacci_recursive(self,n):\n",
    "        if not isinstance(n,int) or n <= 0:\n",
    "            return\n",
    "        elif n ==0 or n==1:\n",
    "            return n\n",
    "        else:\n",
    "            return self.Fibonacci_recursive(n-1)+self.Fibonacci_recursive(n-2)\n",
    "        \n",
    "    # 迭代求解\n",
    "    def Fibonacci_iterative(self,n):\n",
    "        if not isinstance(n,int) or n <= 0:\n",
    "            return\n",
    "        fibo_one = 0\n",
    "        fibo_two = 1\n",
    "        if n <= 1:\n",
    "            return 0 if n==0 else 1\n",
    "        for i in range(2,n+1):\n",
    "            fibN = fibo_one+fibo_two\n",
    "            \n",
    "            fibo_one = fibo_two\n",
    "            fibo_two = fiboN\n",
    "        return fibo\n",
    "    \n",
    "    # 采用列表求解：只利用长度为2的list进行求解\n",
    "    def Fibobacci(self,n):\n",
    "        if not isinstance(n,int) or n <= 0:\n",
    "            return\n",
    "        fibo = [0,1]\n",
    "        if n <= 1:\n",
    "            return fibo[n]\n",
    "        for i in range(2,n+1):\n",
    "            fibo[i%2] = fibo[0] + fibo[1]\n",
    "        return fibo[n%2]\n",
    "        "
   ]
  },
  {
   "cell_type": "code",
   "execution_count": 52,
   "metadata": {},
   "outputs": [
    {
     "name": "stdout",
     "output_type": "stream",
     "text": [
      "8\n"
     ]
    }
   ],
   "source": [
    "'''\n",
    "青蛙跳台阶问题，一次可以跳一个或者两个台阶\n",
    "'''\n",
    "class Solution():\n",
    "    # 递归调用，f(n) = f(n-1)+f(n-2)\n",
    "    def frog(self,n):\n",
    "        if not isinstance(n,int) or n < 1:\n",
    "            return\n",
    "        result = [1,2]\n",
    "        if n <= 2:\n",
    "            return result[n-1]\n",
    "        for i in range(3,n+1):\n",
    "            result[(i-1)%2] = result[0]+result[1]\n",
    "        return result[(n-1)%2]\n",
    "\n",
    "if __name__ == '__main__':\n",
    "    s = Solution()\n",
    "    print(s.frog(5))\n",
    "            "
   ]
  },
  {
   "cell_type": "code",
   "execution_count": 58,
   "metadata": {},
   "outputs": [
    {
     "name": "stdout",
     "output_type": "stream",
     "text": [
      "2\n"
     ]
    }
   ],
   "source": [
    "'''\n",
    "变态青蛙跳：青蛙一次可以跳1-n阶台阶，递归公式为2^(n-1)\n",
    "'''\n",
    "class Solution():\n",
    "    def freakFrog(self,n):\n",
    "        if not isinstance(n,int) or n < 1:\n",
    "            return\n",
    "        result = 1\n",
    "        if n >= 2:\n",
    "            for i in range(n-1):\n",
    "                result = 2 * result\n",
    "        return result\n",
    "\n",
    "if __name__ == '__main__':\n",
    "    s = Solution()\n",
    "    print(s.freakFrog(2))"
   ]
  },
  {
   "cell_type": "code",
   "execution_count": 18,
   "metadata": {},
   "outputs": [
    {
     "name": "stdout",
     "output_type": "stream",
     "text": [
      "start,end: 0 5\n",
      "[1, 2, 3, 5, 4, 6]\n",
      "index: 0\n",
      "change index: [6, 2, 3, 5, 4, 1]\n",
      "partition done: [1, 2, 3, 5, 4, 6]\n",
      "start,end: 1 5\n",
      "[1, 2, 3, 5, 4, 6]\n",
      "index: 1\n",
      "change index: [1, 6, 3, 5, 4, 2]\n",
      "partition done: [1, 2, 3, 5, 4, 6]\n",
      "start,end: 2 5\n",
      "[1, 2, 3, 5, 4, 6]\n",
      "index: 2\n",
      "change index: [1, 2, 6, 5, 4, 3]\n",
      "partition done: [1, 2, 3, 5, 4, 6]\n",
      "start,end: 3 5\n",
      "[1, 2, 3, 5, 4, 6]\n",
      "index: 3\n",
      "change index: [1, 2, 3, 6, 4, 5]\n",
      "small 3\n",
      "change to small: [1, 2, 3, 6, 4, 5]\n",
      "partition done: [1, 2, 3, 4, 5, 6]\n",
      "[1, 2, 3, 4, 5, 6]\n"
     ]
    }
   ],
   "source": [
    "# quick sort\n",
    "import random\n",
    "def swap(ind1,ind2):\n",
    "    global data\n",
    "    temp = data[ind1]\n",
    "    data[ind1] = data[ind2]\n",
    "    data[ind2] = temp\n",
    "def partition(length,start,end):\n",
    "    global data\n",
    "    if end >= length and start <=0 and end <= 0:\n",
    "        return\n",
    "    #print(data)\n",
    "    index = random.randrange(start,end)\n",
    "    #print(\"index:\",index)\n",
    "    swap(index,end)\n",
    "   # print(\"change index:\",data)\n",
    "    '''temp = data[end]\n",
    "    data[end] = data[index]\n",
    "    data[index] = data[end]'''\n",
    "    \n",
    "    small = start - 1\n",
    "    for index in range(start,end):\n",
    "        if data[index] < data[end]:\n",
    "            small += 1\n",
    "            #print('small',small)\n",
    "            if small != index: # 把所有小于data[end]的值移动到前面\n",
    "               # print(\"change to small:\",data)\n",
    "                swap(index,small)\n",
    "                '''temp = data[index]\n",
    "                data[index] = data[small]\n",
    "                data[small] = temp'''\n",
    "    # 切分点为small+1\n",
    "    small += 1\n",
    "    swap(small,end)\n",
    "   # print('partition done:',data)\n",
    "    '''temp = data[end]\n",
    "    data[end] = data[small]\n",
    "    data[small] = temp'''\n",
    "    \n",
    "    return small\n",
    "\n",
    "def quicksort(length,start,end):\n",
    "    if start==end:\n",
    "        return\n",
    "    #print(data)\n",
    "    print('start,end:',start,end)\n",
    "    index = partition(length,start,end)\n",
    "    #print(index)\n",
    "    #print(data) \n",
    "    if index > start:\n",
    "        quicksort(length,start,index-1)\n",
    "    if index < end:\n",
    "        quicksort(length,index+1,end)\n",
    "\n",
    "if __name__ == '__main__':\n",
    "    data = [1,2,3,5,4,6]\n",
    "    quicksort(6,0,5)\n",
    "    print(data)"
   ]
  },
  {
   "cell_type": "code",
   "execution_count": 7,
   "metadata": {},
   "outputs": [],
   "source": [
    "matrix = [10,10]"
   ]
  },
  {
   "cell_type": "code",
   "execution_count": 8,
   "metadata": {},
   "outputs": [
    {
     "data": {
      "text/plain": [
       "[0, 0]"
      ]
     },
     "execution_count": 8,
     "metadata": {},
     "output_type": "execute_result"
    }
   ],
   "source": [
    "[[0 for i in range(len(matrix[0]))] if isinstance(matrix[0],list) else 0 for j in range(len(matrix))]"
   ]
  },
  {
   "cell_type": "code",
   "execution_count": 9,
   "metadata": {},
   "outputs": [],
   "source": [
    "matrix=[[10,10]]"
   ]
  },
  {
   "cell_type": "code",
   "execution_count": 10,
   "metadata": {},
   "outputs": [
    {
     "data": {
      "text/plain": [
       "1"
      ]
     },
     "execution_count": 10,
     "metadata": {},
     "output_type": "execute_result"
    }
   ],
   "source": [
    "len(matrix)"
   ]
  },
  {
   "cell_type": "code",
   "execution_count": 11,
   "metadata": {},
   "outputs": [
    {
     "data": {
      "text/plain": [
       "[10, 10]"
      ]
     },
     "execution_count": 11,
     "metadata": {},
     "output_type": "execute_result"
    }
   ],
   "source": [
    "matrix[0]"
   ]
  },
  {
   "cell_type": "code",
   "execution_count": 12,
   "metadata": {},
   "outputs": [
    {
     "data": {
      "text/plain": [
       "[0, 0, 0, 0, 0, 0, 0, 0, 0, 0, 0, 0]"
      ]
     },
     "execution_count": 12,
     "metadata": {},
     "output_type": "execute_result"
    }
   ],
   "source": [
    "[0]*3*4"
   ]
  },
  {
   "cell_type": "code",
   "execution_count": null,
   "metadata": {},
   "outputs": [],
   "source": []
  }
 ],
 "metadata": {
  "kernelspec": {
   "display_name": "Python 3",
   "language": "python",
   "name": "python3"
  },
  "language_info": {
   "codemirror_mode": {
    "name": "ipython",
    "version": 3
   },
   "file_extension": ".py",
   "mimetype": "text/x-python",
   "name": "python",
   "nbconvert_exporter": "python",
   "pygments_lexer": "ipython3",
   "version": "3.5.4"
  }
 },
 "nbformat": 4,
 "nbformat_minor": 2
}
